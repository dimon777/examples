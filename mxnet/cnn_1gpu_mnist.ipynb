{
 "cells": [
  {
   "cell_type": "code",
   "execution_count": 2,
   "metadata": {},
   "outputs": [],
   "source": [
    "from __future__ import print_function\n",
    "import numpy as np\n",
    "import mxnet as mx\n",
    "from mxnet import nd, autograd, gluon\n",
    "from time import time\n",
    "mx.random.seed(1)"
   ]
  },
  {
   "cell_type": "code",
   "execution_count": 3,
   "metadata": {},
   "outputs": [],
   "source": [
    "ctx = mx.gpu()"
   ]
  },
  {
   "cell_type": "code",
   "execution_count": 4,
   "metadata": {},
   "outputs": [
    {
     "name": "stderr",
     "output_type": "stream",
     "text": [
      "/usr/local/lib/python3.5/dist-packages/mxnet/gluon/data/vision/datasets.py:118: DeprecationWarning: The binary mode of fromstring is deprecated, as it behaves surprisingly on unicode inputs. Use frombuffer instead\n",
      "  label = np.fromstring(fin.read(), dtype=np.uint8).astype(np.int32)\n",
      "/usr/local/lib/python3.5/dist-packages/mxnet/gluon/data/vision/datasets.py:122: DeprecationWarning: The binary mode of fromstring is deprecated, as it behaves surprisingly on unicode inputs. Use frombuffer instead\n",
      "  data = np.fromstring(fin.read(), dtype=np.uint8)\n"
     ]
    }
   ],
   "source": [
    "batch_size = 64\n",
    "num_inputs = 784\n",
    "num_outputs = 10\n",
    "def transform(data, label):\n",
    "    return nd.transpose(data.astype(np.float32), (2,0,1))/255, label.astype(np.float32)\n",
    "\n",
    "train_data = gluon.data.DataLoader(gluon.data.vision.MNIST(train=True, transform=transform),\n",
    "                                      batch_size, shuffle=True)\n",
    "test_data = gluon.data.DataLoader(gluon.data.vision.MNIST(train=False, transform=transform),\n",
    "                                     batch_size, shuffle=False)\n"
   ]
  },
  {
   "cell_type": "code",
   "execution_count": 5,
   "metadata": {},
   "outputs": [],
   "source": [
    "num_fc = 512\n",
    "net = gluon.nn.Sequential()\n",
    "with net.name_scope():\n",
    "    net.add(gluon.nn.Conv2D(channels=20, kernel_size=5, activation='relu'))\n",
    "    net.add(gluon.nn.MaxPool2D(pool_size=2, strides=2))\n",
    "    net.add(gluon.nn.Conv2D(channels=50, kernel_size=5, activation='relu'))\n",
    "    net.add(gluon.nn.MaxPool2D(pool_size=2, strides=2))\n",
    "    # The Flatten layer collapses all axis, except the first one, into one axis.\n",
    "    net.add(gluon.nn.Flatten())\n",
    "    net.add(gluon.nn.Dense(num_fc, activation=\"relu\"))\n",
    "    net.add(gluon.nn.Dense(num_outputs))"
   ]
  },
  {
   "cell_type": "code",
   "execution_count": 6,
   "metadata": {},
   "outputs": [],
   "source": [
    "net.collect_params().initialize(mx.init.Xavier(magnitude=2.24), ctx=ctx)"
   ]
  },
  {
   "cell_type": "code",
   "execution_count": 7,
   "metadata": {},
   "outputs": [],
   "source": [
    "softmax_cross_entropy = gluon.loss.SoftmaxCrossEntropyLoss()"
   ]
  },
  {
   "cell_type": "code",
   "execution_count": 8,
   "metadata": {},
   "outputs": [],
   "source": [
    "trainer = gluon.Trainer(net.collect_params(), 'sgd', {'learning_rate': .1})"
   ]
  },
  {
   "cell_type": "code",
   "execution_count": 9,
   "metadata": {},
   "outputs": [],
   "source": [
    "def evaluate_accuracy(data_iterator, net):\n",
    "    acc = mx.metric.Accuracy()\n",
    "    for i, (data, label) in enumerate(data_iterator):\n",
    "        data = data.as_in_context(ctx)\n",
    "        label = label.as_in_context(ctx)\n",
    "        output = net(data)\n",
    "        predictions = nd.argmax(output, axis=1)\n",
    "        acc.update(preds=predictions, labels=label)\n",
    "    return acc.get()[1]"
   ]
  },
  {
   "cell_type": "code",
   "execution_count": 10,
   "metadata": {},
   "outputs": [
    {
     "name": "stdout",
     "output_type": "stream",
     "text": [
      "Epoch 0. Loss: 0.08043880347708963, Train_acc 0, Test_acc 0, Time 30.0 sec\n",
      "Epoch 1. Loss: 0.04992680303605025, Train_acc 0, Test_acc 0, Time 29.6 sec\n",
      "Epoch 2. Loss: 0.03572506622418558, Train_acc 0, Test_acc 0, Time 29.4 sec\n",
      "Epoch 3. Loss: 0.0260143448728486, Train_acc 0, Test_acc 0, Time 29.1 sec\n",
      "Epoch 4. Loss: 0.01971091373484408, Train_acc 0, Test_acc 0, Time 29.3 sec\n",
      "Epoch 5. Loss: 0.01726156820600957, Train_acc 0, Test_acc 0, Time 28.7 sec\n",
      "Epoch 6. Loss: 0.015638464296622898, Train_acc 0, Test_acc 0, Time 28.6 sec\n",
      "Epoch 7. Loss: 0.009331904507182194, Train_acc 0, Test_acc 0, Time 28.8 sec\n",
      "Epoch 8. Loss: 0.009689594137781553, Train_acc 0, Test_acc 0, Time 29.8 sec\n",
      "Epoch 9. Loss: 0.009646067989718676, Train_acc 0, Test_acc 0, Time 29.6 sec\n",
      "Epoch 10. Loss: 0.005858414605580581, Train_acc 0, Test_acc 0, Time 28.5 sec\n",
      "Epoch 11. Loss: 0.0047775944177645925, Train_acc 0, Test_acc 0, Time 28.9 sec\n",
      "Epoch 12. Loss: 0.003453537663992551, Train_acc 0, Test_acc 0, Time 29.1 sec\n",
      "Epoch 13. Loss: 0.002084777907326617, Train_acc 0, Test_acc 0, Time 28.7 sec\n",
      "Epoch 14. Loss: 0.004998039769735298, Train_acc 0, Test_acc 0, Time 29.2 sec\n",
      "Epoch 15. Loss: 0.001965937208392893, Train_acc 0, Test_acc 0, Time 28.7 sec\n",
      "Epoch 16. Loss: 0.0013700589567848015, Train_acc 0, Test_acc 0, Time 28.8 sec\n",
      "Epoch 17. Loss: 0.001006037238687161, Train_acc 0, Test_acc 0, Time 29.2 sec\n",
      "Epoch 18. Loss: 0.0007995106167015577, Train_acc 0, Test_acc 0, Time 28.6 sec\n",
      "Epoch 19. Loss: 0.00035620000068302903, Train_acc 0, Test_acc 0, Time 28.8 sec\n"
     ]
    }
   ],
   "source": [
    "epochs = 20\n",
    "smoothing_constant = .01\n",
    "\n",
    "for e in range(epochs):\n",
    "    tic = time()\n",
    "    for i, (data, label) in enumerate(train_data):\n",
    "        data = data.as_in_context(ctx)\n",
    "        label = label.as_in_context(ctx)\n",
    "        with autograd.record():\n",
    "            output = net(data)\n",
    "            loss = softmax_cross_entropy(output, label)\n",
    "        loss.backward()\n",
    "        trainer.step(data.shape[0])\n",
    "\n",
    "        ##########################\n",
    "        #  Keep a moving average of the losses\n",
    "        ##########################\n",
    "        curr_loss = nd.mean(loss).asscalar()\n",
    "        moving_loss = (curr_loss if ((i == 0) and (e == 0))\n",
    "                       else (1 - smoothing_constant) * moving_loss + smoothing_constant * curr_loss)\n",
    "\n",
    "    test_accuracy = 0 #evaluate_accuracy(test_data, net)\n",
    "    train_accuracy = 0 #evaluate_accuracy(train_data, net)\n",
    "    print(\"Epoch %s. Loss: %s, Train_acc %s, Test_acc %s, Time %.1f sec\" % (e, moving_loss, train_accuracy, test_accuracy, time()-tic))"
   ]
  },
  {
   "cell_type": "code",
   "execution_count": 13,
   "metadata": {},
   "outputs": [],
   "source": [
    "net.save_params(\"models/cnn_1gpu_mnist.par\")"
   ]
  },
  {
   "cell_type": "code",
   "execution_count": 12,
   "metadata": {},
   "outputs": [
    {
     "data": {
      "text/plain": [
       "32"
      ]
     },
     "execution_count": 12,
     "metadata": {},
     "output_type": "execute_result"
    }
   ],
   "source": [
    "data.shape[0]"
   ]
  },
  {
   "cell_type": "code",
   "execution_count": null,
   "metadata": {},
   "outputs": [],
   "source": []
  }
 ],
 "metadata": {
  "kernelspec": {
   "display_name": "Python 3",
   "language": "python",
   "name": "python3"
  },
  "language_info": {
   "codemirror_mode": {
    "name": "ipython",
    "version": 3
   },
   "file_extension": ".py",
   "mimetype": "text/x-python",
   "name": "python",
   "nbconvert_exporter": "python",
   "pygments_lexer": "ipython3",
   "version": "3.5.2"
  }
 },
 "nbformat": 4,
 "nbformat_minor": 2
}
